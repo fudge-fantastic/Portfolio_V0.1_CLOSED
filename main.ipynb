{
 "cells": [
  {
   "cell_type": "code",
   "execution_count": 13,
   "metadata": {},
   "outputs": [
    {
     "name": "stdout",
     "output_type": "stream",
     "text": [
      "1\n",
      "2\n",
      "Fizz\n",
      "4\n",
      "Buzz\n",
      "Fizz\n",
      "7\n",
      "8\n",
      "Fizz\n",
      "Buzz\n",
      "11\n",
      "Fizz\n",
      "13\n",
      "14\n",
      "FizzBuzz\n"
     ]
    }
   ],
   "source": [
    "# Fizzbuzz\n",
    "\n",
    "for i in range(1, 15+1):\n",
    "    if i % 3 == 0 and i % 5 == 0:\n",
    "        print(\"FizzBuzz\")\n",
    "    elif i % 3 == 0:\n",
    "        print(\"Fizz\")\n",
    "    elif i % 5 == 0:\n",
    "        print(\"Buzz\")\n",
    "    else:\n",
    "        print(i)"
   ]
  },
  {
   "cell_type": "code",
   "execution_count": 3,
   "metadata": {},
   "outputs": [
    {
     "name": "stdout",
     "output_type": "stream",
     "text": [
      "<p>This is some plain text. \n",
      "Here are some <strong>bold</strong> and <em>italic</em> words. \n",
      "We can also add headings: ### This is a level 2 heading</p>\n"
     ]
    }
   ],
   "source": [
    "from markdown import markdown\n",
    "\n",
    "def convert_to_markdown(text):\n",
    "  \"\"\"Converts plain text to Markdown format.\n",
    "\n",
    "  Args:\n",
    "      text: The plain text string to be converted.\n",
    "\n",
    "  Returns:\n",
    "      A string containing the converted Markdown text.\n",
    "  \"\"\"\n",
    "\n",
    "  # Optional: You can add additional extensions here\n",
    "  # extensions = ['extra']  # For tables, footnotes, etc.\n",
    "\n",
    "  return markdown(text)\n",
    "\n",
    "# Example usage\n",
    "text = \"This is some plain text. \\nHere are some **bold** and *italic* words. \\nWe can also add headings: ### This is a level 2 heading\"\n",
    "markdown_text = convert_to_markdown(text)\n",
    "\n",
    "print(markdown_text)\n"
   ]
  },
  {
   "cell_type": "code",
   "execution_count": null,
   "metadata": {},
   "outputs": [],
   "source": []
  }
 ],
 "metadata": {
  "kernelspec": {
   "display_name": "venv",
   "language": "python",
   "name": "python3"
  },
  "language_info": {
   "codemirror_mode": {
    "name": "ipython",
    "version": 3
   },
   "file_extension": ".py",
   "mimetype": "text/x-python",
   "name": "python",
   "nbconvert_exporter": "python",
   "pygments_lexer": "ipython3",
   "version": "3.11.8"
  }
 },
 "nbformat": 4,
 "nbformat_minor": 2
}
